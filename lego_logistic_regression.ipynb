{
  "nbformat": 4,
  "nbformat_minor": 0,
  "metadata": {
    "colab": {
      "name": "lego_logistic_regression.ipynb",
      "provenance": [],
      "collapsed_sections": []
    },
    "kernelspec": {
      "name": "python3",
      "display_name": "Python 3"
    }
  },
  "cells": [
    {
      "cell_type": "markdown",
      "metadata": {
        "id": "MZ88Gqxt7p_t"
      },
      "source": [
        "# Clasificación por regresión logística"
      ]
    },
    {
      "cell_type": "code",
      "metadata": {
        "id": "zrPw1tADc7o2"
      },
      "source": [
        "import pandas as pd\n",
        "import numpy as np\n",
        "import matplotlib.pyplot as plt\n",
        "from sklearn.linear_model import LogisticRegression\n",
        "from sklearn.preprocessing import StandardScaler\n",
        "from sklearn.model_selection import train_test_split\n",
        "from sklearn.metrics import matthews_corrcoef\n",
        "from sklearn.metrics import accuracy_score, confusion_matrix\n",
        "from sklearn.metrics import classification_report\n",
        "\n",
        "sc = StandardScaler()\n",
        "df = pd.read_csv('lego_data.csv',sep=',',header=None)\n",
        "\n",
        "y=df[df.columns[-1]].values # columna de etiquetas \n",
        "\n",
        "X = df.iloc[:, 0:64]  #columnas de características\n",
        "X = X.values\n",
        "\n",
        "X_scaled = sc.fit_transform(X)"
      ],
      "execution_count": null,
      "outputs": []
    },
    {
      "cell_type": "code",
      "metadata": {
        "id": "JtZ76wS8Zpgk"
      },
      "source": [
        "# dividir en train, test, split\n",
        "X_train, X_test, y_train, y_test = train_test_split(X, y, test_size=0.3, random_state=1)\n",
        "#normalizar X\n",
        "X_train = sc.fit_transform(X_train)\n",
        "X_test = sc.transform(X_test)\n",
        "\n",
        "log_reg = LogisticRegression(solver='saga',max_iter = 500, random_state=0,multi_class='auto')\n",
        "log_reg.fit(X_train, y_train)\n",
        "y_pred = log_reg.predict(X_test)\n",
        "y_test_scores = log_reg.predict_proba(X_test)"
      ],
      "execution_count": null,
      "outputs": []
    },
    {
      "cell_type": "markdown",
      "metadata": {
        "id": "Cxwomysp8ALY"
      },
      "source": [
        "## Métricas de evaluación\n"
      ]
    },
    {
      "cell_type": "code",
      "metadata": {
        "colab": {
          "base_uri": "https://localhost:8080/"
        },
        "id": "Pb5eqKT-WNcc",
        "outputId": "959c6f3b-0498-4ee7-d97c-d444933cef8c"
      },
      "source": [
        "MCC = matthews_corrcoef(y_test,y_pred)\n",
        "print(\"matthews_corrcoef\", MCC)\n",
        "ACC = accuracy_score(y_test, y_pred)\n",
        "print(\"Accuracy\", ACC)\n",
        "print(classification_report(y_test,y_pred))"
      ],
      "execution_count": null,
      "outputs": [
        {
          "output_type": "stream",
          "text": [
            "matthews_corrcoef 0.8848935914888149\n",
            "Accuracy 0.918918918918919\n",
            "              precision    recall  f1-score   support\n",
            "\n",
            "         1.0       1.00      1.00      1.00         3\n",
            "         2.0       1.00      0.87      0.93        15\n",
            "         3.0       0.71      0.83      0.77         6\n",
            "         4.0       0.93      1.00      0.96        13\n",
            "\n",
            "    accuracy                           0.92        37\n",
            "   macro avg       0.91      0.93      0.92        37\n",
            "weighted avg       0.93      0.92      0.92        37\n",
            "\n"
          ],
          "name": "stdout"
        }
      ]
    },
    {
      "cell_type": "code",
      "metadata": {
        "id": "3EaajwbRl0Yq",
        "colab": {
          "base_uri": "https://localhost:8080/",
          "height": 295
        },
        "outputId": "fe062fd7-5063-42fe-ec2f-44f6bc0b0a07"
      },
      "source": [
        "from sklearn.metrics import plot_confusion_matrix\n",
        "matrix = plot_confusion_matrix(log_reg, X_test, y_test,\n",
        "                                 cmap=plt.cm.Blues,\n",
        "                                 normalize=None)\n",
        "plt.title('Matriz de confusión para regresión logística')\n",
        "plt.show(matrix)\n",
        "plt.show()"
      ],
      "execution_count": null,
      "outputs": [
        {
          "output_type": "display_data",
          "data": {
            "image/png": "[encoded data removed]",
            "text/plain": [
              "<Figure size 432x288 with 2 Axes>"
            ]
          },
          "metadata": {
            "tags": [],
            "needs_background": "light"
          }
        }
      ]
    }
  ]
}