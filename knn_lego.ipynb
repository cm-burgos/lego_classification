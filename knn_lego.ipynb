{
 "cells": [
  {
   "cell_type": "code",
   "execution_count": 1,
   "metadata": {},
   "outputs": [],
   "source": [
    "import matplotlib.pyplot as plt\n",
    "from matplotlib.colors import ListedColormap\n",
    "import matplotlib.patches as mpatches\n",
    "import seaborn as sb\n",
    "%matplotlib inline\n",
    "plt.rcParams['figure.figsize'] = (16, 9)\n",
    "plt.style.use('ggplot')\n",
    "import pandas as pd\n",
    "import numpy as np\n",
    "import matplotlib.pyplot as plt\n",
    "from sklearn.preprocessing import StandardScaler\n",
    "from sklearn.model_selection import train_test_split\n",
    "from sklearn.linear_model import LogisticRegression # Se importa el modelo,lineal para la regresión lineal\n",
    "from sklearn.metrics import accuracy_score\n",
    "from sklearn.metrics import roc_curve,roc_auc_score\n",
    "from scipy.spatial import distance\n",
    "from sklearn import svm\n",
    "from sklearn.neighbors import KNeighborsClassifier\n",
    "from sklearn.neighbors import RadiusNeighborsClassifier\n",
    "from sklearn.neighbors import DistanceMetric\n",
    "from sklearn.metrics import classification_report\n",
    "from sklearn.metrics import confusion_matrix\n",
    "from sklearn.metrics import matthews_corrcoef\n",
    "from sklearn.metrics import f1_score\n",
    "from sklearn.metrics import accuracy_score\n",
    "from sklearn.utils import shuffle\n",
    "\n",
    "import numpy as np\n",
    "import matplotlib.pyplot as plt\n",
    "from mpl_toolkits.mplot3d import Axes3D\n",
    "from sklearn import decomposition\n",
    "from sklearn import datasets\n",
    "from sklearn.preprocessing import StandardScaler\n",
    "\n",
    "from sklearn.decomposition import PCA, KernelPCA\n",
    "from sklearn.datasets import make_circles, make_moons, make_classification\n"
   ]
  },
  {
   "cell_type": "code",
   "execution_count": 10,
   "metadata": {},
   "outputs": [
    {
     "name": "stdout",
     "output_type": "stream",
     "text": [
      "(121, 65)\n"
     ]
    },
    {
     "data": {
      "text/html": [
       "<div>\n",
       "<style scoped>\n",
       "    .dataframe tbody tr th:only-of-type {\n",
       "        vertical-align: middle;\n",
       "    }\n",
       "\n",
       "    .dataframe tbody tr th {\n",
       "        vertical-align: top;\n",
       "    }\n",
       "\n",
       "    .dataframe thead th {\n",
       "        text-align: right;\n",
       "    }\n",
       "</style>\n",
       "<table border=\"1\" class=\"dataframe\">\n",
       "  <thead>\n",
       "    <tr style=\"text-align: right;\">\n",
       "      <th></th>\n",
       "      <th>0</th>\n",
       "      <th>1</th>\n",
       "      <th>2</th>\n",
       "      <th>3</th>\n",
       "      <th>4</th>\n",
       "      <th>5</th>\n",
       "      <th>6</th>\n",
       "      <th>7</th>\n",
       "      <th>8</th>\n",
       "      <th>9</th>\n",
       "      <th>...</th>\n",
       "      <th>55</th>\n",
       "      <th>56</th>\n",
       "      <th>57</th>\n",
       "      <th>58</th>\n",
       "      <th>59</th>\n",
       "      <th>60</th>\n",
       "      <th>61</th>\n",
       "      <th>62</th>\n",
       "      <th>63</th>\n",
       "      <th>64</th>\n",
       "    </tr>\n",
       "  </thead>\n",
       "  <tbody>\n",
       "    <tr>\n",
       "      <th>0</th>\n",
       "      <td>726.0</td>\n",
       "      <td>4440.0</td>\n",
       "      <td>6754.0</td>\n",
       "      <td>2034.0</td>\n",
       "      <td>7480.0</td>\n",
       "      <td>6133.0</td>\n",
       "      <td>13.0</td>\n",
       "      <td>0.0</td>\n",
       "      <td>495.0</td>\n",
       "      <td>419.0</td>\n",
       "      <td>...</td>\n",
       "      <td>0.0</td>\n",
       "      <td>64.0</td>\n",
       "      <td>145.0</td>\n",
       "      <td>166.0</td>\n",
       "      <td>2.0</td>\n",
       "      <td>123.0</td>\n",
       "      <td>571.0</td>\n",
       "      <td>4823.0</td>\n",
       "      <td>1353.0</td>\n",
       "      <td>1.0</td>\n",
       "    </tr>\n",
       "    <tr>\n",
       "      <th>1</th>\n",
       "      <td>677.0</td>\n",
       "      <td>2983.0</td>\n",
       "      <td>4738.0</td>\n",
       "      <td>1082.0</td>\n",
       "      <td>2195.0</td>\n",
       "      <td>5083.0</td>\n",
       "      <td>35.0</td>\n",
       "      <td>0.0</td>\n",
       "      <td>83.0</td>\n",
       "      <td>89.0</td>\n",
       "      <td>...</td>\n",
       "      <td>0.0</td>\n",
       "      <td>53.0</td>\n",
       "      <td>136.0</td>\n",
       "      <td>136.0</td>\n",
       "      <td>0.0</td>\n",
       "      <td>185.0</td>\n",
       "      <td>319.0</td>\n",
       "      <td>3776.0</td>\n",
       "      <td>1392.0</td>\n",
       "      <td>1.0</td>\n",
       "    </tr>\n",
       "    <tr>\n",
       "      <th>2</th>\n",
       "      <td>237.0</td>\n",
       "      <td>1524.0</td>\n",
       "      <td>8821.0</td>\n",
       "      <td>1123.0</td>\n",
       "      <td>840.0</td>\n",
       "      <td>448.0</td>\n",
       "      <td>31.0</td>\n",
       "      <td>0.0</td>\n",
       "      <td>1100.0</td>\n",
       "      <td>53.0</td>\n",
       "      <td>...</td>\n",
       "      <td>0.0</td>\n",
       "      <td>42.0</td>\n",
       "      <td>173.0</td>\n",
       "      <td>40.0</td>\n",
       "      <td>0.0</td>\n",
       "      <td>73.0</td>\n",
       "      <td>562.0</td>\n",
       "      <td>3152.0</td>\n",
       "      <td>681.0</td>\n",
       "      <td>1.0</td>\n",
       "    </tr>\n",
       "    <tr>\n",
       "      <th>3</th>\n",
       "      <td>100.0</td>\n",
       "      <td>1557.0</td>\n",
       "      <td>6266.0</td>\n",
       "      <td>3640.0</td>\n",
       "      <td>397.0</td>\n",
       "      <td>540.0</td>\n",
       "      <td>55.0</td>\n",
       "      <td>0.0</td>\n",
       "      <td>2283.0</td>\n",
       "      <td>102.0</td>\n",
       "      <td>...</td>\n",
       "      <td>0.0</td>\n",
       "      <td>20.0</td>\n",
       "      <td>188.0</td>\n",
       "      <td>50.0</td>\n",
       "      <td>0.0</td>\n",
       "      <td>53.0</td>\n",
       "      <td>477.0</td>\n",
       "      <td>849.0</td>\n",
       "      <td>73.0</td>\n",
       "      <td>1.0</td>\n",
       "    </tr>\n",
       "    <tr>\n",
       "      <th>4</th>\n",
       "      <td>728.0</td>\n",
       "      <td>1744.0</td>\n",
       "      <td>2940.0</td>\n",
       "      <td>276.0</td>\n",
       "      <td>1178.0</td>\n",
       "      <td>93.0</td>\n",
       "      <td>0.0</td>\n",
       "      <td>0.0</td>\n",
       "      <td>1139.0</td>\n",
       "      <td>0.0</td>\n",
       "      <td>...</td>\n",
       "      <td>0.0</td>\n",
       "      <td>18.0</td>\n",
       "      <td>164.0</td>\n",
       "      <td>87.0</td>\n",
       "      <td>0.0</td>\n",
       "      <td>52.0</td>\n",
       "      <td>352.0</td>\n",
       "      <td>5318.0</td>\n",
       "      <td>2726.0</td>\n",
       "      <td>1.0</td>\n",
       "    </tr>\n",
       "  </tbody>\n",
       "</table>\n",
       "<p>5 rows × 65 columns</p>\n",
       "</div>"
      ],
      "text/plain": [
       "      0       1       2       3       4       5     6    7       8      9   \\\n",
       "0  726.0  4440.0  6754.0  2034.0  7480.0  6133.0  13.0  0.0   495.0  419.0   \n",
       "1  677.0  2983.0  4738.0  1082.0  2195.0  5083.0  35.0  0.0    83.0   89.0   \n",
       "2  237.0  1524.0  8821.0  1123.0   840.0   448.0  31.0  0.0  1100.0   53.0   \n",
       "3  100.0  1557.0  6266.0  3640.0   397.0   540.0  55.0  0.0  2283.0  102.0   \n",
       "4  728.0  1744.0  2940.0   276.0  1178.0    93.0   0.0  0.0  1139.0    0.0   \n",
       "\n",
       "   ...   55    56     57     58   59     60     61      62      63   64  \n",
       "0  ...  0.0  64.0  145.0  166.0  2.0  123.0  571.0  4823.0  1353.0  1.0  \n",
       "1  ...  0.0  53.0  136.0  136.0  0.0  185.0  319.0  3776.0  1392.0  1.0  \n",
       "2  ...  0.0  42.0  173.0   40.0  0.0   73.0  562.0  3152.0   681.0  1.0  \n",
       "3  ...  0.0  20.0  188.0   50.0  0.0   53.0  477.0   849.0    73.0  1.0  \n",
       "4  ...  0.0  18.0  164.0   87.0  0.0   52.0  352.0  5318.0  2726.0  1.0  \n",
       "\n",
       "[5 rows x 65 columns]"
      ]
     },
     "execution_count": 10,
     "metadata": {},
     "output_type": "execute_result"
    }
   ],
   "source": [
    "dataframe = pd.read_csv(r\"lego_data.csv\",sep=',',header=None)\n",
    "#dataframe = shuffle(dataframe, random_state=0)\n",
    "print(dataframe.shape)\n",
    "dataframe.head(5)"
   ]
  },
  {
   "cell_type": "code",
   "execution_count": 19,
   "metadata": {},
   "outputs": [],
   "source": [
    "Xtotal = dataframe[[0,1,2,3,4,5,6,7,8,9,10,11,12,13,14,15,16,17,18,19,20,21,22,23,24,25,26,27,28,29,30,31,32,33,34,35,36,37,38,39,40,41,42,43,44,45,46,47,48,49,50,51,52,53,54,55,56,57,58,59,60,61,62,63]].values\n",
    "ytotal = dataframe[64].values\n",
    "#scaler = StandardScaler()\n",
    "#scaler.fit(Xtotal)\n",
    "#Xtotal = scaler.transform(Xtotal)\n",
    "#pca = decomposition.PCA(n_components=55,whiten=True)\n",
    "#pca.fit(Xtotal)\n",
    "#Xtotal = pca.transform(Xtotal)\n",
    "X_train, X_test, y_train, y_test = train_test_split(Xtotal, ytotal, test_size = 0.3, train_size = 0.7, random_state=0)\n",
    "scaler = StandardScaler()\n",
    "scaler.fit(X_train)\n",
    "X_train = scaler.transform(X_train)\n",
    "X_test = scaler.transform(X_test)\n",
    "#print(\"Pesos de PCA:\",pca.explained_variance_ratio_)"
   ]
  },
  {
   "cell_type": "code",
   "execution_count": 20,
   "metadata": {},
   "outputs": [
    {
     "name": "stdout",
     "output_type": "stream",
     "text": [
      "Accuracy of K-NN classifier on training set: 1.00\n",
      "Accuracy of K-NN classifier on test set: 0.95\n"
     ]
    }
   ],
   "source": [
    "n_neighbors = 2\n",
    "#import sklearn\n",
    "#sorted(sklearn.neighbors.VALID_METRICS['brute'])\n",
    "distance='euclidean'\n",
    "knn = KNeighborsClassifier(n_neighbors,weights='distance',metric=distance,metric_params=None,algorithm='auto')\n",
    "knn.fit(X_train, y_train)\n",
    "print('Accuracy of K-NN classifier on training set: {:.2f}'.format(knn.score(X_train, y_train)))\n",
    "print('Accuracy of K-NN classifier on test set: {:.2f}'.format(knn.score(X_test, y_test)))"
   ]
  },
  {
   "cell_type": "code",
   "execution_count": 21,
   "metadata": {},
   "outputs": [
    {
     "name": "stdout",
     "output_type": "stream",
     "text": [
      "matthews_corrcoef 0.9274372204904507\n",
      "Accuracy 0.9459459459459459\n"
     ]
    }
   ],
   "source": [
    "y_test_predicted = knn.predict(X_test)\n",
    "y_test_scores = knn.predict_proba(X_test)\n",
    "MCC = matthews_corrcoef(y_test, y_test_predicted)\n",
    "print(\"matthews_corrcoef\", MCC)\n",
    "ACC = accuracy_score(y_test, y_test_predicted)\n",
    "print(\"Accuracy\", ACC)"
   ]
  },
  {
   "cell_type": "code",
   "execution_count": 24,
   "metadata": {},
   "outputs": [
    {
     "data": {
      "image/png": "[encoded data removed]",
      "text/plain": [
       "<Figure size 1152x648 with 2 Axes>"
      ]
     },
     "metadata": {},
     "output_type": "display_data"
    }
   ],
   "source": [
    "pred = knn.predict(X_test)\n",
    "from sklearn.metrics import plot_confusion_matrix\n",
    "matrix = plot_confusion_matrix(knn, X_test, y_test,\n",
    "                                 cmap=plt.cm.Blues,\n",
    "                                 normalize=None)\n",
    "plt.title('Confusion matrix for KNN')\n",
    "plt.show(matrix)\n",
    "plt.show()"
   ]
  },
  {
   "cell_type": "code",
   "execution_count": 23,
   "metadata": {},
   "outputs": [
    {
     "data": {
      "text/plain": [
       "([<matplotlib.axis.XTick at 0x157a2252790>,\n",
       "  <matplotlib.axis.XTick at 0x157a2252760>,\n",
       "  <matplotlib.axis.XTick at 0x157a22511f0>,\n",
       "  <matplotlib.axis.XTick at 0x157a24ed4c0>,\n",
       "  <matplotlib.axis.XTick at 0x157a24ed9d0>],\n",
       " <a list of 5 Text major ticklabel objects>)"
      ]
     },
     "execution_count": 23,
     "metadata": {},
     "output_type": "execute_result"
    },
    {
     "data": {
      "image/png": "[encoded data removed]",
      "text/plain": [
       "<Figure size 1152x648 with 1 Axes>"
      ]
     },
     "metadata": {},
     "output_type": "display_data"
    }
   ],
   "source": [
    "#obteniendo el mejor valor de K a partir del conjunto de validación con mejor,accuracy\n",
    "k_range = range(1, 20)\n",
    "scores = []\n",
    "for k in k_range:\n",
    "    knn = KNeighborsClassifier(n_neighbors = k,weights='distance',metric=distance, metric_params=None,algorithm='brute')\n",
    "    #knn = KNeighborsClassifier(n_neighbors = k)\n",
    "    knn.fit(X_train, y_train)\n",
    "    scores.append(knn.score(X_test, y_test))\n",
    "plt.figure()\n",
    "plt.xlabel('k')\n",
    "plt.ylabel('accuracy')\n",
    "plt.scatter(k_range, scores)\n",
    "plt.xticks([0,5,10,15,20])"
   ]
  }
 ],
 "metadata": {
  "kernelspec": {
   "display_name": "Python 3",
   "language": "python",
   "name": "python3"
  },
  "language_info": {
   "codemirror_mode": {
    "name": "ipython",
    "version": 3
   },
   "file_extension": ".py",
   "mimetype": "text/x-python",
   "name": "python",
   "nbconvert_exporter": "python",
   "pygments_lexer": "ipython3",
   "version": "3.8.3"
  }
 },
 "nbformat": 4,
 "nbformat_minor": 4
}
